{
 "metadata": {
  "name": "",
  "signature": "sha256:9cac8a5a8bfcf7fe92980da4dff4c6d5995bcfd116a0d033cf21ed505f8e3ec6"
 },
 "nbformat": 3,
 "nbformat_minor": 0,
 "worksheets": [
  {
   "cells": [
    {
     "cell_type": "markdown",
     "metadata": {},
     "source": [
      "Read WAMIT output files\n",
      "=======================\n",
      "\n",
      "This script lets you read output data from the panel method code [WAMIT](http://www.wamit.com/). The objective is to visualize the data for comparing different runs and to store the data for later use in time domain simulations tools like [WEC-Sim](http://wec-sim.github.io/WEC-Sim/). So the focus is on the hydrostatic restoring, added mass and damping coefficients that WAMIT writes to the output file *.out.\n",
      "\n",
      "You can find a Python only version in [this GitHub repository](https://github.com/brauliobarahona/readWAMIT.git).\n",
      "\n",
      "This Notebook as 4 sections to make the structure of the script easy to follow: setup of script; file reading; mapping of added mass and damping coefficients to modes, bodies, and wave periods; and visualization and storage."
     ]
    },
    {
     "cell_type": "markdown",
     "metadata": {},
     "source": [
      "1. Setup\n",
      "--------\n",
      "\n",
      "> Set WAMIT input file name and location"
     ]
    },
    {
     "cell_type": "code",
     "collapsed": false,
     "input": [
      "wamOUT = './files/opt_all.out'"
     ],
     "language": "python",
     "metadata": {},
     "outputs": [],
     "prompt_number": 10
    },
    {
     "cell_type": "markdown",
     "metadata": {},
     "source": [
      "> Define rules to look up for landmarks in the file and load data for visualization. These rules should make the structure of the script flexible and general, considering that the structure of the output file for a specific code is essentially the same but there will be different files depending on the run setup."
     ]
    },
    {
     "cell_type": "code",
     "collapsed": false,
     "input": [
      "# Laws of the landmarks of WAMIT defined by observation:\n",
      "# (1) First law: between each 'Wave period (sec)=' landmark there are 11 lines plus the number of lines\n",
      "# corresponding to the number of modes\n",
      "law1 = 11\n",
      "\n",
      "# (2) Second law: there are 7 lines from 'Wave period (sec)=' to first line with added mass and\n",
      "# damping coefficients\n",
      "law2 = 7\n",
      "\n",
      "# (3) Thrid Law: hydrostatic and restoring coeffcients lie in the next 3 lines from 'Water depth:'-line\n",
      "# plus 17 lines; that is the next 3 lines after 'Hydrostatic and gravitational restoring coefficients:'\n",
      "law3 = 17\n",
      "law4 = 2    # better, from 'Center of Buoyancy (Xb, Yb, Zb)' two lines to the these coefficients\n",
      "law5 = 3    # there are 3 lines with the hydrostatic restoring coefficients for each body"
     ],
     "language": "python",
     "metadata": {},
     "outputs": [],
     "prompt_number": 11
    },
    {
     "cell_type": "markdown",
     "metadata": {},
     "source": [
      "2. Open/read WAMIT output file\n",
      "-------------------------\n",
      "\n",
      "> Import relevant modules and initialize stuff\n",
      "\n",
      "> Open file as memory mapped object\n",
      "\n",
      "> Search for landmarks and store parameters which are constant throught the different wave periods analyzed and which are stored in one line"
     ]
    },
    {
     "cell_type": "code",
     "collapsed": false,
     "input": [
      "import re\n",
      "import mmap\n",
      "import linecache\n",
      "import numpy as np\n",
      "\n",
      "# initialize variables\n",
      "# >> variables/arrays\n",
      "nbodies = 0    # number of bodies\n",
      "nwaveperiods = 0    # number of wave periods\n",
      "countlines = 0\n",
      "linnum = 0    # line number counter ?\n",
      "flgWD = 0     # flag to refer to 'Water depth:' line\n",
      "flgBP = 0     # flag to refer to 'BODY PARAMETERS:' line\n",
      "flgHR = 0\n",
      "\n",
      "# >> lists\n",
      "flgHR2 = []\n",
      "gravity = []\n",
      "length_scale = []\n",
      "water_depth = []\n",
      "sim_flags = []\n",
      "body_par = []\n",
      "volumesXYZ = []\n",
      "center_bouyancy = []\n",
      "hydrostatic_restoring = []\n",
      "center_gravity= []\n",
      "\n",
      "ixwp = []    # line index for 'Wave period (sec) =' line\n",
      "charnum = []  # character number\n",
      "\n",
      "with open(wamOUT) as fl_wd:  # keeps the flow controlled :)\n",
      "\n",
      "    # get file 'landmarks'\n",
      "    mmFW = mmap.mmap(fl_wd.fileno(), 0, access=mmap.ACCESS_COPY)  # create memory mapped file object\n",
      "    for line in iter(mmFW.readline, \"\"):\n",
      "        linnum += 1  # count lines (!)\n",
      "        charnum.append(mmFW.tell())  # current file \"seek location\", this is the end of the current line\n",
      "        if 'Body number: N=' in line:\n",
      "            nbodies += 1  # counter to get number of bodies\n",
      "\n",
      "        if 'Wave period (sec) =' in line:\n",
      "            # ixwp.append(mmFW.find('Wave period (sec)'))     # (!) this does not get it quite right\n",
      "            ixwp.append(linnum - 1)  # save line index\n",
      "            nwaveperiods += 1  # ... number of wave periods (or body oscillations)\n",
      "\n",
      "        if 'Wave period = zero' in line:\n",
      "            infwaveIDX = 0\n",
      "            \n",
      "        if 'Gravity:'in line:\n",
      "            gravity = line.split()[1]\n",
      "            length_scale = line.split()[-1]\n",
      "            \n",
      "        if 'Water depth:' in line:\n",
      "            water_depth = line.split()[-1]\n",
      "            flgWD = linnum\n",
      "            flgHR = linnum + law3 - 1    # (python-index) flag is set here, later coefficients are read - valid for 1 body only\n",
      "            \n",
      "        if 'Volumes (VOLX,VOLY,VOLZ):' in line:    # here volumes, one set per body\n",
      "            volumesXYZ.append(line.split()[-3:])\n",
      "            \n",
      "        if 'Center of Buoyancy (Xb,Yb,Zb):' in line:    # here bouyancy center, one set per body\n",
      "            center_bouyancy.append(line.split()[-3:])\n",
      "            flgHR2.append(linnum + law4 - 1) # (python-index for lines)\n",
      "            \n",
      "        if 'Center of Gravity  (Xg,Yg,Zg):' in line:    # here bouyancy center, one set per body\n",
      "            center_gravity.append(line.split()[-3:])\n",
      "            \n",
      "# (!) TODO: define laws for       \n",
      "# sim_flags = []\n",
      "# body_par = []"
     ],
     "language": "python",
     "metadata": {},
     "outputs": [],
     "prompt_number": 12
    },
    {
     "cell_type": "markdown",
     "metadata": {},
     "source": [
      "3. Map hydrodynamic coefficients to the respective rigid body modes for each body\n",
      "--------------------------------------------------------------------------------\n",
      "\n",
      "> First just check that things are making sense"
     ]
    },
    {
     "cell_type": "code",
     "collapsed": false,
     "input": [
      "Aixwp = np.array(ixwp[:])  # this is for error checking: TODO: write method for error checking\n",
      "if len(set(Aixwp[1:-1] - Aixwp[0:-2])) == 1:\n",
      "# i) calculate number of modes, using 1st law\n",
      "    nmodes = Aixwp[1] - Aixwp[0] - law1     # TODO: split this, make an error checking module\n",
      "                                            # TODO: move this out of the way\n",
      "    print '\\n all good - there is ', nmodes, ' rigid body mode(s) for each of the ', nwaveperiods, \\\n",
      "\t\t\t' wave period(s) in the output file, and there are ', nbodies, ' body (-ies) \\n'  \n",
      "    if nmodes == 1:\n",
      "        print '(!) Note: take a look at the input files to be sure which body this mode corresponds to.'\n",
      "else:\n",
      "    print '\\n error'   # TODO: how to exit the program if this case is true?"
     ],
     "language": "python",
     "metadata": {},
     "outputs": [
      {
       "output_type": "stream",
       "stream": "stdout",
       "text": [
        "\n",
        " all good - there is  144  rigid body mode(s) for each of the  160  wave period(s) in the output file, and there are  2  body (-ies) \n",
        "\n"
       ]
      }
     ],
     "prompt_number": 13
    },
    {
     "cell_type": "markdown",
     "metadata": {},
     "source": [
      "> Then use flags and rules to map WAMIT output to data structures for visualization\n",
      "* first get the other parameters that are also constant throught the different wave periods, but that span many lines"
     ]
    },
    {
     "cell_type": "code",
     "collapsed": false,
     "input": [
      "# here: crunch the lines in between each landmark to get, wave period, added mass and damping\n",
      "# use cache lines\n",
      "theseLs = linecache.getlines(wamOUT) # these are the lines in the file and can be accessed randomly\n",
      "\n",
      "Ldat_C = []    # create empty list\n",
      "for i in range(2):    # populate list with arrays\n",
      "    Ldat_C.append( np.zeros((6, 6), dtype=np.float) )\n",
      "\n",
      "# index for filling up C matrices\n",
      "iixC3 = range(2,5)\n",
      "iixC4 = range(3,6)\n",
      "\n",
      "# use flgHR2 to store hydrostatic restoring coefficients\n",
      "for i in flgHR2:\n",
      "    hydrostatic_restoring.append(theseLs[i:i + law5])\n",
      "\n",
      "# use nbodies\n",
      "for i in range(nbodies):    # loop for each body\n",
      "    for j in range(law5):    # loop the three rows of hydrostatic coefficients    \n",
      "        for k in range(-1,-4,-1):    # loop the last 3 elements of each split line\n",
      "\n",
      "            try:                 \n",
      "                # check if string is ' C(3,3),C(3,4),C(3,5): '\n",
      "                if hydrostatic_restoring[i][j].split()[0] == hydrostatic_restoring[0][0].split()[0]:\n",
      "                \n",
      "                    Ldat_C[i][j + 2, iixC3[k]] = np.float(hydrostatic_restoring[i][j].split()[k])\n",
      "                    \n",
      "                else:\n",
      "                    \n",
      "                    Ldat_C[i][j + 2, iixC4[k]] = np.float(hydrostatic_restoring[i][j].split()[k])\n",
      "\n",
      "            except ValueError:\n",
      "                print 'There is a string in hydrostatic_restoring[i][j].split()[k]'\n",
      "                print hydrostatic_restoring[i][j].split()[k], '--- (!) WAMIT index'\n",
      "                print 'For body ',i + 1, ', C(', j+2, ',', iixC4[k],') will be kept to zero --- (!) Python index\\n'\n",
      "                \n",
      "for i in range(len(Ldat_C)):\n",
      "    print 'Hydrostatic restoring coefficients of body ', i + 1, ':\\n', Ldat_C[i][:]\n",
      "    \n",
      "    "
     ],
     "language": "python",
     "metadata": {},
     "outputs": [
      {
       "output_type": "stream",
       "stream": "stdout",
       "text": [
        "There is a string in hydrostatic_restoring[i][j].split()[k]\n",
        "C(5,5),C(5,6): --- (!) WAMIT index\n",
        "For body  1 , C( 4 , 3 ) will be kept to zero --- (!) Python index\n",
        "\n",
        "There is a string in hydrostatic_restoring[i][j].split()[k]\n",
        "C(5,5),C(5,6): --- (!) WAMIT index\n",
        "For body  2 , C( 4 , 3 ) will be kept to zero --- (!) Python index\n",
        "\n",
        "Hydrostatic restoring coefficients of body  1 :\n",
        "[[  0.00000000e+00   0.00000000e+00   0.00000000e+00   0.00000000e+00\n",
        "    0.00000000e+00   0.00000000e+00]\n",
        " [  0.00000000e+00   0.00000000e+00   0.00000000e+00   0.00000000e+00\n",
        "    0.00000000e+00   0.00000000e+00]\n",
        " [  0.00000000e+00   0.00000000e+00   1.87570000e+02   1.60110000e-03\n",
        "    1.24560000e+02   0.00000000e+00]\n",
        " [  0.00000000e+00   0.00000000e+00   0.00000000e+00   2.73670000e+03\n",
        "   -1.24500000e-02   0.00000000e+00]\n",
        " [  0.00000000e+00   0.00000000e+00   0.00000000e+00   0.00000000e+00\n",
        "    2.11520000e+03   0.00000000e+00]\n",
        " [  0.00000000e+00   0.00000000e+00   0.00000000e+00   0.00000000e+00\n",
        "    0.00000000e+00   0.00000000e+00]]\n",
        "Hydrostatic restoring coefficients of body  2 :\n",
        "[[  0.00000000e+00   0.00000000e+00   0.00000000e+00   0.00000000e+00\n",
        "    0.00000000e+00   0.00000000e+00]\n",
        " [  0.00000000e+00   0.00000000e+00   0.00000000e+00   0.00000000e+00\n",
        "    0.00000000e+00   0.00000000e+00]\n",
        " [  0.00000000e+00   0.00000000e+00   1.19990000e+01   1.60560000e-06\n",
        "   -3.52410000e-06   0.00000000e+00]\n",
        " [  0.00000000e+00   0.00000000e+00   0.00000000e+00  -5.39510000e+03\n",
        "    1.20700000e-06   0.00000000e+00]\n",
        " [  0.00000000e+00   0.00000000e+00   0.00000000e+00   0.00000000e+00\n",
        "   -5.39520000e+03   0.00000000e+00]\n",
        " [  0.00000000e+00   0.00000000e+00   0.00000000e+00   0.00000000e+00\n",
        "    0.00000000e+00   0.00000000e+00]]\n"
       ]
      }
     ],
     "prompt_number": 14
    },
    {
     "cell_type": "code",
     "collapsed": false,
     "input": [
      "dat_IJ_AB = [] # rigid-body mode (I, J), added mass (A) and damping (B)\n",
      "waveT = np.array([])  # wave period in units of time\n",
      "kL_number = []  # wave number\n",
      "\n",
      "for i in Aixwp:\n",
      "\n",
      "    lineDat = theseLs[i].split()\n",
      "\n",
      "# wave periods, K numbers, and so on ... \n",
      "    waveT = np.append(waveT, np.float(lineDat[4]))\n",
      "    kL_number = np.append(kL_number, np.float(lineDat[-1]))\n",
      "\n",
      "# ii) setup line indexes and get values for added mass and damping coefficients\n",
      "    # get modes and coefficients into list\n",
      "    dat_IJ_AB.append(theseLs[i + law2:i + law2 + nmodes])"
     ],
     "language": "python",
     "metadata": {},
     "outputs": [],
     "prompt_number": 15
    },
    {
     "cell_type": "markdown",
     "metadata": {},
     "source": [
      "> At this stage you can use `dat_IJ_AB` to extract modes as follows,\n",
      "* For a wave period equal to the value in `waveT[-1]`, for example, extract the rigid body modes corresponding to heave:"
     ]
    },
    {
     "cell_type": "code",
     "collapsed": false,
     "input": [
      "# dat_IJ_AB[ nwaveperiods or len(waveT)  ][ nmodes ]\n",
      "\n",
      "ico = 0\n",
      "for i in range(nmodes):\n",
      "    \n",
      "    if dat_IJ_AB[-1][i].split()[0:2] == ['3','3'] or dat_IJ_AB[-1][i].split()[0:2] == ['9','9']:    # make this to automatically scale with nbodies\n",
      "        ico += 1\n",
      "        print 'Heave mode for body', ico, '=> ', dat_IJ_AB[-1][i]"
     ],
     "language": "python",
     "metadata": {},
     "outputs": [
      {
       "output_type": "stream",
       "stream": "stdout",
       "text": [
        "Heave mode for body 1 =>       3     3   1.216094E+03   1.695561E+01\n",
        "\n",
        "Heave mode for body 2 =>       9     9   1.701209E+01   6.637393E-02\n",
        "\n"
       ]
      }
     ],
     "prompt_number": 16
    },
    {
     "cell_type": "markdown",
     "metadata": {},
     "source": [
      "4. Visualization and storage\n",
      "================"
     ]
    },
    {
     "cell_type": "markdown",
     "metadata": {},
     "source": [
      "> Once the most important parameters from the *.out file are mapped, the dependency of added mass and damping to wave periods can be easily analyzed.\n",
      "* Get added mass and damping of a given mode of a given body across wave periods"
     ]
    },
    {
     "cell_type": "code",
     "collapsed": false,
     "input": [
      "AdddedMassHeave = []\n",
      "DampingHeave = []\n",
      "\n",
      "# get a specific mode for all wave periods\n",
      "for i in range(len(waveT)):\n",
      "    for j in range(nmodes):\n",
      "    \n",
      "        if dat_IJ_AB[i][j].split()[0:2] == ['3','3']:\n",
      "            AdddedMassHeave.append( dat_IJ_AB[i][j].split()[-2] )\n",
      "            DampingHeave.append( dat_IJ_AB[i][j].split()[-1] )"
     ],
     "language": "python",
     "metadata": {},
     "outputs": [],
     "prompt_number": 17
    },
    {
     "cell_type": "markdown",
     "metadata": {},
     "source": [
      "> * Plot coefficients versus wave period"
     ]
    },
    {
     "cell_type": "code",
     "collapsed": false,
     "input": [
      "%pylab inline\n",
      "\n",
      "figure()\n",
      "plt.plot(waveT, AdddedMassHeave)\n",
      "xlabel('wave period (s)')\n",
      "title('Non-dimensional added mass coefficients')\n",
      "show()\n",
      "\n",
      "figure()\n",
      "plt.plot(waveT, DampingHeave)\n",
      "xlabel('wave period (s)')\n",
      "title('Non-dimensional damping coefficients')\n",
      "show()"
     ],
     "language": "python",
     "metadata": {},
     "outputs": [
      {
       "output_type": "stream",
       "stream": "stdout",
       "text": [
        "Populating the interactive namespace from numpy and matplotlib\n"
       ]
      },
      {
       "metadata": {},
       "output_type": "display_data",
       "png": "[encoded data removed]",
       "text": [
        "<matplotlib.figure.Figure at 0x7f307f6eda90>"
       ]
      },
      {
       "metadata": {},
       "output_type": "display_data",
       "png": "[encoded data removed]",
       "text": [
        "<matplotlib.figure.Figure at 0x7f307e3dcf90>"
       ]
      }
     ],
     "prompt_number": 18
    },
    {
     "cell_type": "code",
     "collapsed": false,
     "input": [
      "# TODO:\n",
      "# * check units automatically\n",
      "#\n",
      "# iii) define which modes correspond to which bodies\n",
      "# (!) this is not so trivial because for each body, different number of modes can be outputted\n",
      "#   (!) simplest case is all modes of all bodies are outputted -> 6 x nbodies\n",
      "#   (!) second simplest case is the same number of bodies are outputted for each body -> #modes/nbodies\n",
      "# iv) sort out the other variables I need to extract\n",
      "#\n",
      "#\n",
      "# > other stuff more software related\n",
      "# -> move from procedural to object oriented if is necessary \n",
      "# -> see how this could fit into Bemio ?\n"
     ],
     "language": "python",
     "metadata": {},
     "outputs": []
    }
   ],
   "metadata": {}
  }
 ]
}